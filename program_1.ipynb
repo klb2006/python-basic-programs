{
  "nbformat": 4,
  "nbformat_minor": 0,
  "metadata": {
    "colab": {
      "provenance": [],
      "authorship_tag": "ABX9TyM+zT6a7zabEw/SiWNYft3N",
      "include_colab_link": true
    },
    "kernelspec": {
      "name": "python3",
      "display_name": "Python 3"
    },
    "language_info": {
      "name": "python"
    }
  },
  "cells": [
    {
      "cell_type": "markdown",
      "metadata": {
        "id": "view-in-github",
        "colab_type": "text"
      },
      "source": [
        "<a href=\"https://colab.research.google.com/github/klb2006/python-basic-programs/blob/main/program_1.ipynb\" target=\"_parent\"><img src=\"https://colab.research.google.com/assets/colab-badge.svg\" alt=\"Open In Colab\"/></a>"
      ]
    },
    {
      "cell_type": "code",
      "execution_count": null,
      "metadata": {
        "colab": {
          "base_uri": "https://localhost:8080/"
        },
        "id": "iUxBaFZNA8mw",
        "outputId": "cc05b665-7b13-49f8-ec47-bbc9d6ba045f"
      },
      "outputs": [
        {
          "output_type": "stream",
          "name": "stdout",
          "text": [
            "Original array: [1, 2, 3, 4]\n",
            "Array after inserting 9 at index 2: [1, 2, 9, 3, 4]\n",
            "Original array: [9, 2, 4, 8]\n",
            "Array after inserting 10 at index 1: [9, 10, 2, 4, 8]\n"
          ]
        }
      ],
      "source": [
        "#Python Program to Insert element at given location in array.\n",
        "\n",
        "def insert_element(arr, element, index):\n",
        "    if index >= len(arr):\n",
        "        print(f\"Please enter an index smaller than {len(arr)}\")\n",
        "    else:\n",
        "        arr.insert(index, element)\n",
        "    return arr\n",
        "arr1 = [1, 2, 3, 4]\n",
        "element1 = 9\n",
        "index1 = 2\n",
        "print(f\"Original array: {arr1}\")\n",
        "print(f\"Array after inserting {element1} at index {index1}: {insert_element(arr1, element1, index1)}\")\n",
        "arr2 = [9, 2, 4, 8]\n",
        "element2 = 10\n",
        "index2 = 1\n",
        "print(f\"Original array: {arr2}\")\n",
        "print(f\"Array after inserting {element2} at index {index2}: {insert_element(arr2, element2, index2)}\")"
      ]
    },
    {
      "cell_type": "markdown",
      "source": [
        "This program defines a function insert_element that takes an array, an element, and an index as inputs. It inserts the element at the specified index and returns the updated array.\n",
        "\n"
      ],
      "metadata": {
        "id": "Xncz2DcBB96f"
      }
    }
  ]
}