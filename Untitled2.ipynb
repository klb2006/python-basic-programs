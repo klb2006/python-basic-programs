{
  "nbformat": 4,
  "nbformat_minor": 0,
  "metadata": {
    "colab": {
      "provenance": [],
      "authorship_tag": "ABX9TyOAcyiLFZusuFRRNLCmW4dX",
      "include_colab_link": true
    },
    "kernelspec": {
      "name": "python3",
      "display_name": "Python 3"
    },
    "language_info": {
      "name": "python"
    }
  },
  "cells": [
    {
      "cell_type": "markdown",
      "metadata": {
        "id": "view-in-github",
        "colab_type": "text"
      },
      "source": [
        "<a href=\"https://colab.research.google.com/github/klb2006/python-basic-programs/blob/main/Untitled2.ipynb\" target=\"_parent\"><img src=\"https://colab.research.google.com/assets/colab-badge.svg\" alt=\"Open In Colab\"/></a>"
      ]
    },
    {
      "cell_type": "code",
      "execution_count": 5,
      "metadata": {
        "colab": {
          "base_uri": "https://localhost:8080/"
        },
        "id": "-pia7chvdiWr",
        "outputId": "c74e0a2e-7fed-456a-cae0-f952bc21a400"
      },
      "outputs": [
        {
          "output_type": "stream",
          "name": "stdout",
          "text": [
            "Enter the first number: 6\n",
            "Enter the second number: 7\n",
            "Sum: 13.0\n"
          ]
        }
      ],
      "source": [
        "# Sum of two numbers\n",
        "num1 = float(input(\"Enter the first number: \"))\n",
        "num2 = float(input(\"Enter the second number: \"))\n",
        "sum = num1 + num2\n",
        "print(\"Sum:\", sum)\n"
      ]
    },
    {
      "cell_type": "code",
      "source": [
        "# Maximum of two numbers\n",
        "num1 = float(input(\"Enter the first number: \"))\n",
        "num2 = float(input(\"Enter the second number: \"))\n",
        "\n",
        "if num1 > num2:\n",
        "    print(f\"{num1} is the maximum number.\")\n",
        "else:\n",
        "    print(f\"{num2} is the maximum number.\")\n",
        "\n"
      ],
      "metadata": {
        "colab": {
          "base_uri": "https://localhost:8080/"
        },
        "id": "5wM0NZO2hc3m",
        "outputId": "eaada155-9541-47aa-cdc3-d697fd1714b5"
      },
      "execution_count": 6,
      "outputs": [
        {
          "output_type": "stream",
          "name": "stdout",
          "text": [
            "Enter the first number: 10\n",
            "Enter the second number: 20\n",
            "20.0 is the maximum number.\n"
          ]
        }
      ]
    },
    {
      "cell_type": "code",
      "source": [
        "# Factorial of a number\n",
        "num = int(input(\"Enter a number: \"))\n",
        "factorial = 1\n",
        "\n",
        "for i in range(1, num + 1):\n",
        "    factorial *= i\n",
        "\n",
        "print(\"Factorial:\", factorial)\n"
      ],
      "metadata": {
        "colab": {
          "base_uri": "https://localhost:8080/"
        },
        "id": "VlAAciBkjC-g",
        "outputId": "40bcf6e6-6a97-4a9d-dc82-5ea0cd8790d7"
      },
      "execution_count": 9,
      "outputs": [
        {
          "output_type": "stream",
          "name": "stdout",
          "text": [
            "Enter a number: 5\n",
            "Factorial: 120\n"
          ]
        }
      ]
    },
    {
      "cell_type": "code",
      "source": [
        "#calculate simple interst\n",
        "def calculate_simple_interest(principal, rate, time):\n",
        "     simple_interest = (principal * rate * time) / 100\n",
        "     return simple_interest\n",
        "principal = float(input(\"Enter the principal amount: \"))\n",
        "rate = float(input(\"Enter the rate of interest: \"))\n",
        "time = float(input(\"Enter the time period in years: \"))\n",
        "interest = calculate_simple_interest(principal, rate, time)\n",
        "print(f\"The Simple Interest is: {interest}\")\n",
        "\n"
      ],
      "metadata": {
        "colab": {
          "base_uri": "https://localhost:8080/"
        },
        "id": "Nsl8l08CkPVE",
        "outputId": "dab3f0bd-9e45-4082-dfaa-6749f097b61f"
      },
      "execution_count": 14,
      "outputs": [
        {
          "output_type": "stream",
          "name": "stdout",
          "text": [
            "Enter the principal amount: 50000\n",
            "Enter the rate of interest: 2\n",
            "Enter the time period in years: 1\n",
            "The Simple Interest is: 1000.0\n"
          ]
        }
      ]
    },
    {
      "cell_type": "code",
      "source": [
        "#compund interest\n",
        "def calculate_compound_interest(principal, rate, time, n):\n",
        "    amount = principal * (pow((1 + rate / (100 * n)), n * time))\n",
        "    compound_interest = amount - principal\n",
        "    return compound_interest\n",
        "principal = float(input(\"Enter the principal amount: \"))\n",
        "rate = float(input(\"Enter the annual interest rate (in %): \"))\n",
        "time = float(input(\"Enter the time period in years: \"))\n",
        "n = int(input(\"Enter the number of times interest is compounded per year: \"))\n",
        "interest = calculate_compound_interest(principal, rate, time, n)\n",
        "print(f\"The Compound Interest is: {interest}\")\n"
      ],
      "metadata": {
        "colab": {
          "base_uri": "https://localhost:8080/"
        },
        "id": "g3inNoRll70h",
        "outputId": "7e41e69e-44fa-422e-cc9d-54da70ec2236"
      },
      "execution_count": 15,
      "outputs": [
        {
          "output_type": "stream",
          "name": "stdout",
          "text": [
            "Enter the principal amount: 100000\n",
            "Enter the annual interest rate (in %): 2\n",
            "Enter the time period in years: 1\n",
            "Enter the number of times interest is compounded per year: 2\n",
            "The Compound Interest is: 2010.0\n"
          ]
        }
      ]
    },
    {
      "cell_type": "code",
      "source": [
        "#area of the circle\n",
        "import math\n",
        "\n",
        "def calculate_area(radius):\n",
        "    return math.pi * (radius ** 2)\n",
        "\n",
        "radius = float(input(\"Enter the radius of the circle: \"))\n",
        "area = calculate_area(radius)\n",
        "print(f\"The area of the circle with radius {radius} is: {area}\")\n",
        "\n"
      ],
      "metadata": {
        "id": "heszZUKnmvDX"
      },
      "execution_count": null,
      "outputs": []
    },
    {
      "cell_type": "code",
      "source": [
        "# prime numbers in interval\n",
        "lower=int(input(\"enter lower range\":))\n",
        "upper=int(input(\"enter upper range:\"))\n",
        "for num  in range(lower,upper+1)\n",
        "if num>1:\n",
        "  for i in range(2,num):\n",
        "    if num%i==0\n",
        "    break\n",
        "    else:\n",
        "      print(num)"
      ],
      "metadata": {
        "id": "xHimKPyTpbQh"
      },
      "execution_count": null,
      "outputs": []
    },
    {
      "cell_type": "code",
      "source": [
        "#prime number or not\n",
        "num=int(input(\"enter a number\"))\n",
        "if num>1:\n",
        "  for i in range(2,num):\n",
        " if num%i==0\n",
        " print(f\"{num} is a prime number\")\n",
        " break\n",
        " else:\n",
        "  print(f\"{num}is not a prime number\")\n"
      ],
      "metadata": {
        "id": "CJg0whlOtL-X"
      },
      "execution_count": null,
      "outputs": []
    },
    {
      "cell_type": "code",
      "source": [
        "#nth term\n"
      ],
      "metadata": {
        "id": "-2R9ZKEGw3hz"
      },
      "execution_count": null,
      "outputs": []
    }
  ]
}