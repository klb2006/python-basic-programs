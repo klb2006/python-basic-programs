{
  "nbformat": 4,
  "nbformat_minor": 0,
  "metadata": {
    "colab": {
      "provenance": [],
      "authorship_tag": "ABX9TyOCE4t9zCeOpEGkTHr5pKi8",
      "include_colab_link": true
    },
    "kernelspec": {
      "name": "python3",
      "display_name": "Python 3"
    },
    "language_info": {
      "name": "python"
    }
  },
  "cells": [
    {
      "cell_type": "markdown",
      "metadata": {
        "id": "view-in-github",
        "colab_type": "text"
      },
      "source": [
        "<a href=\"https://colab.research.google.com/github/klb2006/python-basic-programs/blob/main/python_basic_programs.ipynb\" target=\"_parent\"><img src=\"https://colab.research.google.com/assets/colab-badge.svg\" alt=\"Open In Colab\"/></a>"
      ]
    },
    {
      "cell_type": "code",
      "execution_count": 1,
      "metadata": {
        "colab": {
          "base_uri": "https://localhost:8080/"
        },
        "id": "H5taRr0DmJ19",
        "outputId": "35914a44-8e87-4e0a-86ce-bdc9216b24fb"
      },
      "outputs": [
        {
          "output_type": "stream",
          "name": "stdout",
          "text": [
            "enter the number of terms:6\n",
            "0 1 1 2 3 5 "
          ]
        }
      ],
      "source": [
        "# fibonachi of the nth term\n",
        "n=int(input(\"enter the number of terms:\"))\n",
        "a=0\n",
        "b=1\n",
        "print (a,b,end=\" \")\n",
        "for i in range (2,n):\n",
        "  c=a+b\n",
        "  a=b\n",
        "  b=c\n",
        "  print (c,end=\" \")"
      ]
    },
    {
      "cell_type": "code",
      "source": [
        "# fibonachi of the natural mumbers\n",
        "n = int(input(\"Enter the number: \"))\n",
        "a, b = 0, 1\n",
        "\n",
        "while a < n:\n",
        "    a, b = b, a + b\n",
        "\n",
        "if a == n:\n",
        "    print(f\"{n} is a Fibonacci number\")\n",
        "else:\n",
        "    print(f\"{n} is not a Fibonacci number\")"
      ],
      "metadata": {
        "colab": {
          "base_uri": "https://localhost:8080/"
        },
        "id": "wuiA5mzvnUF7",
        "outputId": "9978d16a-cbfd-449e-ded1-c4e08c64dc6f"
      },
      "execution_count": 5,
      "outputs": [
        {
          "output_type": "stream",
          "name": "stdout",
          "text": [
            "Enter the number: 9\n",
            "9 is not a Fibonacci number\n"
          ]
        }
      ]
    },
    {
      "cell_type": "code",
      "source": [
        " # fibonachi of the mutiple numbers\n",
        "position = int(input(\"Enter the position: \"))\n",
        "multiple = int(input(\"Enter the multiple of the numbers: \"))\n",
        "a, b = 0, 1\n",
        "\n",
        "for i in range(position):\n",
        "    a, b = b, a + b\n",
        "    if a % multiple == 0:\n",
        "        print(f\"The {i+1}th Fibonacci number {a} is a multiple of {multiple}.\")\n",
        "    else:\n",
        "        print(f\"The {i+1}th Fibonacci number {a} is not a multiple of {multiple}.\")\n"
      ],
      "metadata": {
        "colab": {
          "base_uri": "https://localhost:8080/"
        },
        "id": "uzDGO_PBqGZR",
        "outputId": "ac85e37e-b531-433f-8699-28c7c1960ad2"
      },
      "execution_count": 8,
      "outputs": [
        {
          "output_type": "stream",
          "name": "stdout",
          "text": [
            "Enter the position: 8\n",
            "Enter the multiple of the numbers: 2\n",
            "The 1th Fibonacci number 1 is not a multiple of 2.\n",
            "The 2th Fibonacci number 1 is not a multiple of 2.\n",
            "The 3th Fibonacci number 2 is a multiple of 2.\n",
            "The 4th Fibonacci number 3 is not a multiple of 2.\n",
            "The 5th Fibonacci number 5 is not a multiple of 2.\n",
            "The 6th Fibonacci number 8 is a multiple of 2.\n",
            "The 7th Fibonacci number 13 is not a multiple of 2.\n",
            "The 8th Fibonacci number 21 is not a multiple of 2.\n"
          ]
        }
      ]
    },
    {
      "cell_type": "code",
      "source": [
        "char = input(\"Enter a character: \")\n",
        "print(\"ASCII value of\", char, \"is\", ord(char))\n"
      ],
      "metadata": {
        "colab": {
          "base_uri": "https://localhost:8080/"
        },
        "id": "c69SuRypsgww",
        "outputId": "f83f8858-1f77-486f-f877-0a3232fa9fd9"
      },
      "execution_count": 1,
      "outputs": [
        {
          "output_type": "stream",
          "name": "stdout",
          "text": [
            "Enter a character: a\n",
            "ASCII value of a is 97\n"
          ]
        }
      ]
    },
    {
      "cell_type": "code",
      "source": [
        "# sum of squres of first n natural numbers\n",
        "def sum_of_squares(n):\n",
        "    sum = 0\n",
        "    for i in range(1, n + 1):\n",
        "        sum += i * i\n",
        "    return sum\n",
        "n = int(input(\"Enter a number: \"))\n",
        "print(f\"The sum of squares of the first {n} natural numbers is {sum_of_squares(n)}\")\n"
      ],
      "metadata": {
        "colab": {
          "base_uri": "https://localhost:8080/"
        },
        "id": "PtptWPo5t5Dw",
        "outputId": "77b9d9ea-4785-4d10-9eb1-da887ad21370"
      },
      "execution_count": 2,
      "outputs": [
        {
          "output_type": "stream",
          "name": "stdout",
          "text": [
            "Enter a number: 10\n",
            "The sum of squares of the first 10 natural numbers is 385\n"
          ]
        }
      ]
    },
    {
      "cell_type": "code",
      "source": [
        "#sum of cubes of n natural numbers\n",
        "def sum_of_cubes(n):\n",
        "    sum = 0\n",
        "    for i in range(1, n + 1):\n",
        "        sum += i ** 3\n",
        "    return sum\n",
        "n = int(input(\"Enter a number: \"))\n",
        "print(f\"The sum of cubes of the first {n} natural numbers is {sum_of_cubes(n)}\")\n"
      ],
      "metadata": {
        "colab": {
          "base_uri": "https://localhost:8080/"
        },
        "id": "B9uxB5cAuaoL",
        "outputId": "b84f76ee-4b6f-4b0e-8a05-c70df003f2bc"
      },
      "execution_count": 3,
      "outputs": [
        {
          "output_type": "stream",
          "name": "stdout",
          "text": [
            "Enter a number: 5\n",
            "The sum of cubes of the first 5 natural numbers is 225\n"
          ]
        }
      ]
    },
    {
      "cell_type": "code",
      "source": [
        "#check the number is amstrong number or not\n",
        "def is_armstrong_number(num):\n",
        "    digits = str(num)\n",
        "    order = len(digits)\n",
        "    sum_of_powers = 0\n",
        "    for digit in digits:\n",
        "        sum_of_powers += int(digit) ** order\n",
        "    return sum_of_powers == num\n",
        "num = int(input(\"Enter a number: \"))\n",
        "if is_armstrong_number(num):\n",
        "    print(f\"{num} is an Armstrong number\")\n",
        "else:\n",
        "    print(f\"{num} is not an Armstrong number\")\n",
        "\n"
      ],
      "metadata": {
        "colab": {
          "base_uri": "https://localhost:8080/"
        },
        "id": "4XbQ2pW1u0n7",
        "outputId": "ccb2dd34-38a4-4293-964a-6e7161d80072"
      },
      "execution_count": 4,
      "outputs": [
        {
          "output_type": "stream",
          "name": "stdout",
          "text": [
            "Enter a number: 648\n",
            "648 is not an Armstrong number\n"
          ]
        }
      ]
    }
  ]
}