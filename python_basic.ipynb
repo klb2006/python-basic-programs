{
  "nbformat": 4,
  "nbformat_minor": 0,
  "metadata": {
    "colab": {
      "provenance": [],
      "authorship_tag": "ABX9TyOK2ncg2ZHol4ioLtrXAd6K",
      "include_colab_link": true
    },
    "kernelspec": {
      "name": "python3",
      "display_name": "Python 3"
    },
    "language_info": {
      "name": "python"
    }
  },
  "cells": [
    {
      "cell_type": "markdown",
      "metadata": {
        "id": "view-in-github",
        "colab_type": "text"
      },
      "source": [
        "<a href=\"https://colab.research.google.com/github/klb2006/python-basic-programs/blob/main/python_basic.ipynb\" target=\"_parent\"><img src=\"https://colab.research.google.com/assets/colab-badge.svg\" alt=\"Open In Colab\"/></a>"
      ]
    },
    {
      "cell_type": "code",
      "execution_count": 1,
      "metadata": {
        "colab": {
          "base_uri": "https://localhost:8080/"
        },
        "id": "2TnDwyCfw1JU",
        "outputId": "454c6760-909a-4f51-8759-0af80e3e6a2b"
      },
      "outputs": [
        {
          "output_type": "stream",
          "name": "stdout",
          "text": [
            "Enter the length of the rectangle: 5\n",
            "Enter the width of the rectangle: 3\n",
            "The perimeter of the rectangle is: 16.0\n"
          ]
        }
      ],
      "source": [
        "#perimeter of a rectangle\n",
        "def calculate_perimeter(length, width):\n",
        "    return 2 * (length + width)\n",
        "length = float(input(\"Enter the length of the rectangle: \"))\n",
        "width = float(input(\"Enter the width of the rectangle: \"))\n",
        "perimeter = calculate_perimeter(length, width)\n",
        "print(f\"The perimeter of the rectangle is: {perimeter}\")\n"
      ]
    },
    {
      "cell_type": "code",
      "source": [
        "#sum of the squres of the n natural numbers\n",
        "def sum_of_squares(n):\n",
        "    sum_squares = 0\n",
        "    for i in range(1, n + 1):\n",
        "        sum_squares += i ** 2\n",
        "    return sum_squares\n",
        "n = int(input(\"Enter the value of n: \"))\n",
        "sum_squares = sum_of_squares(n)\n",
        "print(f\"The sum of the squares of the first {n} natural numbers is: {sum_squares}\")\n"
      ],
      "metadata": {
        "colab": {
          "base_uri": "https://localhost:8080/"
        },
        "id": "q3p5JzcSykGS",
        "outputId": "a6d16241-a3a1-49d2-9082-7cc2f1038ade"
      },
      "execution_count": 2,
      "outputs": [
        {
          "output_type": "stream",
          "name": "stdout",
          "text": [
            "Enter the value of n: 5\n",
            "The sum of the squares of the first 5 natural numbers is: 55\n"
          ]
        }
      ]
    },
    {
      "cell_type": "code",
      "source": [
        "#palindrom or not\n",
        "def is_palindrome(s):\n",
        "    return s == s[::-1]\n",
        "input_string = input(\"Enter a string: \")\n",
        "if is_palindrome(input_string):\n",
        "    print(f'\"{input_string}\" is a palindrome.')\n",
        "else:\n",
        "    print(f'\"{input_string}\" is not a palindrome.')\n"
      ],
      "metadata": {
        "colab": {
          "base_uri": "https://localhost:8080/"
        },
        "id": "H4xMM-NczYDC",
        "outputId": "c333c3df-4d79-43b2-a96b-3a431852c10a"
      },
      "execution_count": 3,
      "outputs": [
        {
          "output_type": "stream",
          "name": "stdout",
          "text": [
            "Enter a string: madam\n",
            "\"madam\" is a palindrome.\n"
          ]
        }
      ]
    }
  ]
}